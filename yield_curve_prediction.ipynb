{
 "cells": [
  {
   "cell_type": "markdown",
   "metadata": {},
   "source": [
    "A Yield Curve is a line that plots interest rate of bonds having equal credit quality but different maturities. It is used as a benchmark for other debts in the market.\n",
    "\n",
    "Strong predictor of future economic activity and inflation level. Slope is indicator of short term rates. Thus, important to model it accurately, generaly used econometrics and statistical techniques to model it."
   ]
  },
  {
   "cell_type": "markdown",
   "metadata": {},
   "source": [
    "Model includes :- \n",
    "\n",
    "* [Simultaneous multiple outputs at the same time]\n",
    "* [Modeling time series in supervised way]"
   ]
  },
  {
   "cell_type": "markdown",
   "metadata": {},
   "source": [
    "**Predictor Variable :** Previous years tenors for treasury curve (mostly all tenor points), federal debt held by government, Fed, public and corporate spread over the Baa rated 10 year treasury rate\n",
    "\n",
    "**Predicted variable :** Chosesn 3 tenors 1M, 5Y and 30Y for prediction"
   ]
  },
  {
   "cell_type": "code",
   "execution_count": 1,
   "metadata": {},
   "outputs": [],
   "source": [
    "import pandas_datareader.data as web"
   ]
  },
  {
   "cell_type": "code",
   "execution_count": null,
   "metadata": {},
   "outputs": [],
   "source": [
    "# different tickers to extract data\n",
    "# will use yahoo finance and fred for extracting data\n",
    "\n"
   ]
  }
 ],
 "metadata": {
  "kernelspec": {
   "display_name": "Python 3",
   "language": "python",
   "name": "python3"
  },
  "language_info": {
   "codemirror_mode": {
    "name": "ipython",
    "version": 3
   },
   "file_extension": ".py",
   "mimetype": "text/x-python",
   "name": "python",
   "nbconvert_exporter": "python",
   "pygments_lexer": "ipython3",
   "version": "3.7.3"
  }
 },
 "nbformat": 4,
 "nbformat_minor": 2
}
