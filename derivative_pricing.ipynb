{
 "cells": [
  {
   "cell_type": "markdown",
   "metadata": {},
   "source": [
    "## Generally use numerical methods like finite difference, fourier methods and monte carlo for valuation of derivative (Black scholes), but it has lot of assumptions like GBM for stock price, and constraints like no arbitrage. basically every numerical pricing techniques have some impractical model assumptions. \n",
    "\n",
    "## Second issue is model calibration which is not done on some historical data but by means of derivative prices of heaviliy traded options to the derivative price from the same mathematical model like builidng a vol surface, thoudsand of derivative prices are determined to fit the parameters of the models which is time consuming process.\n",
    "\n",
    "## ML can be used to tackle these model assumptions and ineffcient model calibratation as plenty of market data is available and high computing performance. Can capture subtle non linearities in data in a much more efficient way."
   ]
  },
  {
   "cell_type": "code",
   "execution_count": 1,
   "metadata": {},
   "outputs": [],
   "source": [
    "import pandas as pd\n",
    "import numpy as np"
   ]
  },
  {
   "cell_type": "code",
   "execution_count": 2,
   "metadata": {},
   "outputs": [
    {
     "data": {
      "text/plain": [
       "'Market data is input to the BS equation (independent variables)\\n   and predictior variable is the price of the option.\\n   Stock price, strike price, time to expiration, volatility,\\n   interest rate and dividend yield.\\n'"
      ]
     },
     "execution_count": 2,
     "metadata": {},
     "output_type": "execute_result"
    }
   ],
   "source": [
    "\"\"\"Market data is input to the BS equation (independent variables)\n",
    "   and predictior variable is the price of the option.\n",
    "   Stock price, strike price, time to expiration, volatility,\n",
    "   interest rate and dividend yield.\n",
    "\"\"\""
   ]
  },
  {
   "cell_type": "markdown",
   "metadata": {},
   "source": [
    "## Moneyness is K/S, look at the price at per unit of stock price.\n",
    "\n",
    "## In options market, we do not use single volatility to price all the optons, volatility depends upon option moneyness and time to maturity. Volaitliy increases with higher time to maturity and moneyness i.e. Volaitliy Smile/Skew (It should not happen but it does). \n",
    "\n",
    "## Implied volatility is what we derived from the prices of the options already exisitng in the market. We also have a volatility surface formula where we can find volaility using option moneyness and time to maturity. It does depend upon the parameters of the equation."
   ]
  },
  {
   "cell_type": "code",
   "execution_count": 3,
   "metadata": {},
   "outputs": [],
   "source": [
    "\"\"\"Defining inputs to the equation or model\"\"\"\n",
    "# parameters for vol surface\n",
    "true_alpha = 0.1\n",
    "true_beta = 0.1\n",
    "true_sigma2 = 0.2\n",
    "\n",
    "# BS model\n",
    "risk_free_rate = 0.05"
   ]
  },
  {
   "cell_type": "code",
   "execution_count": null,
   "metadata": {},
   "outputs": [],
   "source": []
  }
 ],
 "metadata": {
  "kernelspec": {
   "display_name": "Python 3",
   "language": "python",
   "name": "python3"
  },
  "language_info": {
   "codemirror_mode": {
    "name": "ipython",
    "version": 3
   },
   "file_extension": ".py",
   "mimetype": "text/x-python",
   "name": "python",
   "nbconvert_exporter": "python",
   "pygments_lexer": "ipython3",
   "version": "3.7.3"
  }
 },
 "nbformat": 4,
 "nbformat_minor": 2
}
