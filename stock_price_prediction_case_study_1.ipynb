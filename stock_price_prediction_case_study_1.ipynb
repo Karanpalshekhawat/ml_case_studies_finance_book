{
 "cells": [
  {
   "cell_type": "markdown",
   "metadata": {},
   "source": [
    "## Stock price prediciton based on historical data, to utilise non deterministic solutions to train or learn what is going on in order to make predicitons. Can be for a single point in time or for a set of future time points."
   ]
  },
  {
   "cell_type": "markdown",
   "metadata": {},
   "source": [
    "### Features that are generally helpful in prediction are:-\n",
    "#### Correlated Assets:- external factors like fiscal, monetary policy, competitors, clients, global economy, geopolitical situation, access to capital. So stock price will be correalted to other things like commodities, FX, broad based indices or fixed income security\n",
    "#### Technical indicators:- momentum, MA, EMA\n",
    "#### Fundamental analysis:- ROE, P/E, any news that will have effect on sentiments\n",
    "\n",
    "### We will try to predict microsoft stock price using both arima models and deep learning model (LSTM)"
   ]
  },
  {
   "cell_type": "code",
   "execution_count": 1,
   "metadata": {},
   "outputs": [],
   "source": [
    "import pandas as pd\n",
    "import numpy as np"
   ]
  },
  {
   "cell_type": "code",
   "execution_count": 6,
   "metadata": {},
   "outputs": [],
   "source": [
    "#loading package for data reader from finance and yahoo\n",
    "import pandas_datareader.data as web"
   ]
  },
  {
   "cell_type": "code",
   "execution_count": 39,
   "metadata": {},
   "outputs": [],
   "source": [
    "stock_ticker = ['MSFT', 'IBM', 'GOOGL']\n",
    "currency_ticker = ['DEXJPUS', 'DEXUSUK']\n",
    "index_ticker = ['SP500', 'DJIA', 'VIXCLS']\n",
    "stock_data = web.DataReader(stock_ticker, 'yahoo')\n",
    "currency_data = web.DataReader(currency_ticker, 'fred')\n",
    "index_data = web.DataReader(index_ticker, 'fred')"
   ]
  },
  {
   "cell_type": "code",
   "execution_count": 90,
   "metadata": {},
   "outputs": [],
   "source": [
    "\"\"\"We will compute weekly returns, so lag will be of 5 days, curently we have daily data\n",
    "    To calculate returns, we will be using logarthmic returns.\n",
    "    Independent variables will be correalted assets, currencies and index data.\n",
    "    Also, assume the microsoft shares also depend upon it's own return with different lags\n",
    "    like 5-day, 15-day, 30-day and 60-day\"\"\"\n",
    "return_period = 5\n",
    "Y = np.log(stock_data.loc[:, ('Adj Close', 'MSFT')]).diff(return_period).shift(-return_period) #we asign the returns to previous dates (It is done because we are doing regression of current values of Microsoft with lagged values of independent values)\n",
    "Y.name = Y.name[-1] + '_Pred'"
   ]
  },
  {
   "cell_type": "code",
   "execution_count": 71,
   "metadata": {},
   "outputs": [],
   "source": [
    "X1 = np.log(stock_data.loc[:, ('Adj Close', ('GOOGL', 'IBM'))]).diff(return_period)\n",
    "X1.columns = X1.columns.droplevel()\n",
    "X2 = np.log(currency_data).diff(return_period)\n",
    "X3 = np.log(index_data).diff(return_period)\n",
    "\"\"\"Microsoft lagged values\"\"\"\n",
    "X4 = pd.concat([np.log(stock_data.loc[:, ('Adj Close', 'MSFT')]).diff(i) for i in [return_period, return_period*3, return_period*6, return_period*12]], axis=1).dropna()\n",
    "X4.columns = ['MSFT_DT', 'MSFT_3DT', 'MSFT_6DT','MSFT_12DT']"
   ]
  },
  {
   "cell_type": "code",
   "execution_count": 72,
   "metadata": {},
   "outputs": [],
   "source": [
    "X = pd.concat([X1, X2, X3, X4], axis=1)"
   ]
  },
  {
   "cell_type": "code",
   "execution_count": 93,
   "metadata": {},
   "outputs": [],
   "source": [
    "\"\"\"Note that values for Y variables will be the next future values\n",
    "    while values for X will be current, it happend because we use .shift(-return_period)\n",
    "    during forming the microsoft Y (dependent) data,\n",
    "    Final data at a interval of 5\n",
    "    Dataset contains lagged series of correlated shocks, currencies and index.\n",
    "    It also contains lagged historical returns of MSFT itself.\"\"\"\n",
    "dataset = pd.concat([Y,X], axis=1).dropna().iloc[::return_period, :]\n",
    "Y = dataset.loc[:,Y.name]\n",
    "X = dataset.loc[:, X.columns]"
   ]
  },
  {
   "cell_type": "code",
   "execution_count": 95,
   "metadata": {},
   "outputs": [],
   "source": [
    "\"\"\"Exploratory data analysis\"\"\"\n",
    "correlation = dataset.corr()"
   ]
  },
  {
   "cell_type": "code",
   "execution_count": 98,
   "metadata": {},
   "outputs": [],
   "source": [
    "import matplotlib.pyplot as plt\n",
    "import seaborn as sns"
   ]
  },
  {
   "cell_type": "code",
   "execution_count": null,
   "metadata": {},
   "outputs": [],
   "source": []
  },
  {
   "cell_type": "code",
   "execution_count": null,
   "metadata": {},
   "outputs": [],
   "source": []
  },
  {
   "cell_type": "code",
   "execution_count": null,
   "metadata": {},
   "outputs": [],
   "source": []
  },
  {
   "cell_type": "code",
   "execution_count": null,
   "metadata": {},
   "outputs": [],
   "source": []
  }
 ],
 "metadata": {
  "kernelspec": {
   "display_name": "Python 3",
   "language": "python",
   "name": "python3"
  },
  "language_info": {
   "codemirror_mode": {
    "name": "ipython",
    "version": 3
   },
   "file_extension": ".py",
   "mimetype": "text/x-python",
   "name": "python",
   "nbconvert_exporter": "python",
   "pygments_lexer": "ipython3",
   "version": "3.7.3"
  }
 },
 "nbformat": 4,
 "nbformat_minor": 2
}
