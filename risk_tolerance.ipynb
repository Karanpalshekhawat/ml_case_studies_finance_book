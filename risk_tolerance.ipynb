{
 "cells": [
  {
   "cell_type": "markdown",
   "metadata": {},
   "source": [
    "## Most of the method that are used to decide risk tolerance of any investor are based on qualitative judgement and manual effort (risk tolerance questionaire) but investors suffer from behavioral biases and are poor judges specially in stressed markets. Also involves quite manual stuff which cannot be automated. \n",
    "\n",
    "## We will try to develop an ML application to build a personality profile of the client of how they will deal different market scenarios\n",
    "\n",
    "## This notebook will try to address these 2 problems :- \n",
    "\n",
    "1. Train a supervised regression model to predict risk tolernace of an investor\n",
    "2. Build a robo advisor dashboard (free of any human dependency) "
   ]
  },
  {
   "cell_type": "code",
   "execution_count": 2,
   "metadata": {},
   "outputs": [],
   "source": [
    "#Independent variables will be demographic, financial and behavioural attriubutes\n",
    "import pandas as pd\n",
    "df = pd.read_excel('SCFP2009panel.xlsx')"
   ]
  },
  {
   "cell_type": "code",
   "execution_count": 14,
   "metadata": {},
   "outputs": [],
   "source": [
    "import numpy as np"
   ]
  },
  {
   "cell_type": "code",
   "execution_count": 7,
   "metadata": {},
   "outputs": [],
   "source": [
    "# Risky assets are MFs, stocks and bonds\n",
    "df['Risky_asset07'] = df['NMMF07'] + df['STOCKS07'] + df['BOND07']\n",
    "df['Risky_asset09'] = df['NMMF09'] + df['STOCKS09'] + df['BOND09']"
   ]
  },
  {
   "cell_type": "code",
   "execution_count": 8,
   "metadata": {},
   "outputs": [],
   "source": [
    "# Risk free assets are Savings, CDs and liquids\n",
    "df['Risky_free07'] = df['LIQ07'] + df['CDS07'] + df['SAVBND07'] + df['CASHLI07']\n",
    "df['Risky_free09'] = df['LIQ09'] + df['CDS09'] + df['SAVBND09'] + df['CASHLI09']"
   ]
  },
  {
   "cell_type": "code",
   "execution_count": 11,
   "metadata": {},
   "outputs": [],
   "source": [
    "# Ratio of risky assests to total assests is riks tolerance\n",
    "df['RT07'] = df['Risky_asset07']/(df['Risky_asset07']+df['Risky_free07'])"
   ]
  },
  {
   "cell_type": "code",
   "execution_count": 12,
   "metadata": {},
   "outputs": [],
   "source": [
    "# stock index for normalising risky assets in 209\n",
    "Average_SP500_2007=1478\n",
    "Average_SP500_2009=948"
   ]
  },
  {
   "cell_type": "code",
   "execution_count": 13,
   "metadata": {},
   "outputs": [],
   "source": [
    "df['RT09'] = (df['Risky_asset09']/(df['Risky_asset09']+df['Risky_free09']))*(Average_SP500_2009/Average_SP500_2007)"
   ]
  },
  {
   "cell_type": "code",
   "execution_count": 15,
   "metadata": {},
   "outputs": [],
   "source": [
    "# absolute percentage change of RT\n",
    "df['PerChange'] = np.abs(df['RT09']/df['RT07'] - 1) #if RT07 is zero, this will give error"
   ]
  },
  {
   "cell_type": "code",
   "execution_count": 16,
   "metadata": {},
   "outputs": [
    {
     "name": "stdout",
     "output_type": "stream",
     "text": [
      "(19285, 522)\n",
      "(9230, 522)\n"
     ]
    }
   ],
   "source": [
    "# drop any row that contains NA\n",
    "print(df.shape)\n",
    "df = df.dropna(axis=0)\n",
    "print(df.shape)"
   ]
  },
  {
   "cell_type": "code",
   "execution_count": 19,
   "metadata": {},
   "outputs": [
    {
     "name": "stdout",
     "output_type": "stream",
     "text": [
      "(9230, 522)\n",
      "(7956, 522)\n"
     ]
    }
   ],
   "source": [
    "print(df.shape)\n",
    "df = df[~df.isin([np.nan, np.inf, -np.inf]).any(1)]\n",
    "print(df.shape)"
   ]
  },
  {
   "cell_type": "code",
   "execution_count": 39,
   "metadata": {},
   "outputs": [],
   "source": [
    "# Final dataframe created\n",
    "import seaborn as sns\n",
    "import matplotlib.pyplot as plt"
   ]
  },
  {
   "cell_type": "code",
   "execution_count": 32,
   "metadata": {},
   "outputs": [],
   "source": [
    "import warnings\n",
    "warnings.filterwarnings('ignore')"
   ]
  },
  {
   "cell_type": "code",
   "execution_count": 23,
   "metadata": {},
   "outputs": [
    {
     "data": {
      "text/plain": [
       "<matplotlib.axes._subplots.AxesSubplot at 0x130b57ac8>"
      ]
     },
     "execution_count": 23,
     "metadata": {},
     "output_type": "execute_result"
    },
    {
     "data": {
      "image/png": "[encoded data removed]",
      "text/plain": [
       "<Figure size 432x288 with 1 Axes>"
      ]
     },
     "metadata": {
      "needs_background": "light"
     },
     "output_type": "display_data"
    }
   ],
   "source": [
    "sns.distplot(df['RT07'], color='blue', hist=True, bins = 40, kde=False, hist_kws={'edgecolor' : 'black'})"
   ]
  },
  {
   "cell_type": "code",
   "execution_count": 25,
   "metadata": {},
   "outputs": [
    {
     "data": {
      "text/plain": [
       "<matplotlib.axes._subplots.AxesSubplot at 0x12f244ac8>"
      ]
     },
     "execution_count": 25,
     "metadata": {},
     "output_type": "execute_result"
    },
    {
     "data": {
      "image/png": "[encoded data removed]",
      "text/plain": [
       "<Figure size 432x288 with 1 Axes>"
      ]
     },
     "metadata": {
      "needs_background": "light"
     },
     "output_type": "display_data"
    }
   ],
   "source": [
    "sns.distplot(df['RT09'], kde=False, hist=True, bins=40, color='blue', hist_kws={'edgecolor' : 'black'})"
   ]
  },
  {
   "cell_type": "markdown",
   "metadata": {},
   "source": [
    "We can observer the risk tolerance shifted from close to 1 in 2007 to close to 0 in 2009 (market effect of 2008, behaviour reversed after the crisis)\n",
    "\n",
    "Intelligent investors are those whose behaviour do not change by more than 10% (both sides)"
   ]
  },
  {
   "cell_type": "code",
   "execution_count": 33,
   "metadata": {},
   "outputs": [],
   "source": [
    "df_int = df[df['PerChange'] <= 0.1]\n",
    "df_int['true_risk_tolerance'] = (df_int['RT07'] + df_int['RT09']) / 2"
   ]
  },
  {
   "cell_type": "code",
   "execution_count": 34,
   "metadata": {},
   "outputs": [],
   "source": [
    "# true_risk_tolerance is the predicted variable for our analysis, drop other variables\n",
    "df_int = df_int.drop(labels = ['RT07', 'RT09', 'PerChange'], axis=1)"
   ]
  },
  {
   "cell_type": "markdown",
   "metadata": {},
   "source": [
    "## Variables Selection\n",
    "\n",
    "**Predictor Variable :** Age, Martial status, education, occupation, kids, spending habits ( expense > earning or vice versa), net worth, income vategory, Risk (1 being highest, 4 being lowest)\n",
    "\n",
    "**Predicted Variable :** True risk tolerance "
   ]
  },
  {
   "cell_type": "code",
   "execution_count": 37,
   "metadata": {},
   "outputs": [],
   "source": [
    "keep_list2 = ['AGE07','EDCL07','MARRIED07','KIDS07','OCCAT107','INCOME07','RISK07','NETWORTH07','true_risk_tolerance']\n",
    "drop_list = [i for i in df_int.columns if i not in keep_list2]"
   ]
  },
  {
   "cell_type": "code",
   "execution_count": 38,
   "metadata": {},
   "outputs": [
    {
     "name": "stdout",
     "output_type": "stream",
     "text": [
      "(355, 520)\n",
      "(355, 9)\n"
     ]
    }
   ],
   "source": [
    "print(df_int.shape)\n",
    "df_int = df_int.drop(labels=drop_list, axis =1)\n",
    "print(df_int.shape)"
   ]
  },
  {
   "cell_type": "markdown",
   "metadata": {},
   "source": [
    "#### Always remember that if you have finding correlation matrix of a dataset, it is better to show these numbers using a heat map"
   ]
  },
  {
   "cell_type": "code",
   "execution_count": 44,
   "metadata": {},
   "outputs": [
    {
     "data": {
      "text/plain": [
       "<matplotlib.axes._subplots.AxesSubplot at 0x12bff79e8>"
      ]
     },
     "execution_count": 44,
     "metadata": {},
     "output_type": "execute_result"
    },
    {
     "data": {
      "image/png": "[encoded data removed]",
      "text/plain": [
       "<Figure size 432x288 with 2 Axes>"
      ]
     },
     "metadata": {
      "needs_background": "light"
     },
     "output_type": "display_data"
    }
   ],
   "source": [
    "correlation = df_int.corr()\n",
    "sns.heatmap(correlation)"
   ]
  },
  {
   "cell_type": "code",
   "execution_count": 43,
   "metadata": {},
   "outputs": [
    {
     "data": {
      "text/html": [
       "<div>\n",
       "<style scoped>\n",
       "    .dataframe tbody tr th:only-of-type {\n",
       "        vertical-align: middle;\n",
       "    }\n",
       "\n",
       "    .dataframe tbody tr th {\n",
       "        vertical-align: top;\n",
       "    }\n",
       "\n",
       "    .dataframe thead th {\n",
       "        text-align: right;\n",
       "    }\n",
       "</style>\n",
       "<table border=\"1\" class=\"dataframe\">\n",
       "  <thead>\n",
       "    <tr style=\"text-align: right;\">\n",
       "      <th></th>\n",
       "      <th>AGE07</th>\n",
       "      <th>EDCL07</th>\n",
       "      <th>MARRIED07</th>\n",
       "      <th>KIDS07</th>\n",
       "      <th>OCCAT107</th>\n",
       "      <th>INCOME07</th>\n",
       "      <th>RISK07</th>\n",
       "      <th>NETWORTH07</th>\n",
       "      <th>true_risk_tolerance</th>\n",
       "    </tr>\n",
       "  </thead>\n",
       "  <tbody>\n",
       "    <tr>\n",
       "      <th>AGE07</th>\n",
       "      <td>1.000000</td>\n",
       "      <td>-0.199442</td>\n",
       "      <td>0.153983</td>\n",
       "      <td>-0.314548</td>\n",
       "      <td>0.492308</td>\n",
       "      <td>0.157755</td>\n",
       "      <td>0.269954</td>\n",
       "      <td>0.156204</td>\n",
       "      <td>0.290022</td>\n",
       "    </tr>\n",
       "    <tr>\n",
       "      <th>EDCL07</th>\n",
       "      <td>-0.199442</td>\n",
       "      <td>1.000000</td>\n",
       "      <td>-0.078704</td>\n",
       "      <td>0.148456</td>\n",
       "      <td>-0.132615</td>\n",
       "      <td>-0.169439</td>\n",
       "      <td>-0.148950</td>\n",
       "      <td>-0.079883</td>\n",
       "      <td>0.113975</td>\n",
       "    </tr>\n",
       "    <tr>\n",
       "      <th>MARRIED07</th>\n",
       "      <td>0.153983</td>\n",
       "      <td>-0.078704</td>\n",
       "      <td>1.000000</td>\n",
       "      <td>-0.202003</td>\n",
       "      <td>0.031246</td>\n",
       "      <td>-0.019242</td>\n",
       "      <td>0.213488</td>\n",
       "      <td>-0.089188</td>\n",
       "      <td>-0.116096</td>\n",
       "    </tr>\n",
       "    <tr>\n",
       "      <th>KIDS07</th>\n",
       "      <td>-0.314548</td>\n",
       "      <td>0.148456</td>\n",
       "      <td>-0.202003</td>\n",
       "      <td>1.000000</td>\n",
       "      <td>-0.037870</td>\n",
       "      <td>0.012300</td>\n",
       "      <td>-0.114034</td>\n",
       "      <td>0.110855</td>\n",
       "      <td>-0.038783</td>\n",
       "    </tr>\n",
       "    <tr>\n",
       "      <th>OCCAT107</th>\n",
       "      <td>0.492308</td>\n",
       "      <td>-0.132615</td>\n",
       "      <td>0.031246</td>\n",
       "      <td>-0.037870</td>\n",
       "      <td>1.000000</td>\n",
       "      <td>0.103926</td>\n",
       "      <td>0.141213</td>\n",
       "      <td>0.146756</td>\n",
       "      <td>0.242642</td>\n",
       "    </tr>\n",
       "    <tr>\n",
       "      <th>INCOME07</th>\n",
       "      <td>0.157755</td>\n",
       "      <td>-0.169439</td>\n",
       "      <td>-0.019242</td>\n",
       "      <td>0.012300</td>\n",
       "      <td>0.103926</td>\n",
       "      <td>1.000000</td>\n",
       "      <td>-0.140693</td>\n",
       "      <td>0.702653</td>\n",
       "      <td>0.139044</td>\n",
       "    </tr>\n",
       "    <tr>\n",
       "      <th>RISK07</th>\n",
       "      <td>0.269954</td>\n",
       "      <td>-0.148950</td>\n",
       "      <td>0.213488</td>\n",
       "      <td>-0.114034</td>\n",
       "      <td>0.141213</td>\n",
       "      <td>-0.140693</td>\n",
       "      <td>1.000000</td>\n",
       "      <td>-0.041611</td>\n",
       "      <td>0.017230</td>\n",
       "    </tr>\n",
       "    <tr>\n",
       "      <th>NETWORTH07</th>\n",
       "      <td>0.156204</td>\n",
       "      <td>-0.079883</td>\n",
       "      <td>-0.089188</td>\n",
       "      <td>0.110855</td>\n",
       "      <td>0.146756</td>\n",
       "      <td>0.702653</td>\n",
       "      <td>-0.041611</td>\n",
       "      <td>1.000000</td>\n",
       "      <td>0.201585</td>\n",
       "    </tr>\n",
       "    <tr>\n",
       "      <th>true_risk_tolerance</th>\n",
       "      <td>0.290022</td>\n",
       "      <td>0.113975</td>\n",
       "      <td>-0.116096</td>\n",
       "      <td>-0.038783</td>\n",
       "      <td>0.242642</td>\n",
       "      <td>0.139044</td>\n",
       "      <td>0.017230</td>\n",
       "      <td>0.201585</td>\n",
       "      <td>1.000000</td>\n",
       "    </tr>\n",
       "  </tbody>\n",
       "</table>\n",
       "</div>"
      ],
      "text/plain": [
       "                        AGE07    EDCL07  MARRIED07    KIDS07  OCCAT107  \\\n",
       "AGE07                1.000000 -0.199442   0.153983 -0.314548  0.492308   \n",
       "EDCL07              -0.199442  1.000000  -0.078704  0.148456 -0.132615   \n",
       "MARRIED07            0.153983 -0.078704   1.000000 -0.202003  0.031246   \n",
       "KIDS07              -0.314548  0.148456  -0.202003  1.000000 -0.037870   \n",
       "OCCAT107             0.492308 -0.132615   0.031246 -0.037870  1.000000   \n",
       "INCOME07             0.157755 -0.169439  -0.019242  0.012300  0.103926   \n",
       "RISK07               0.269954 -0.148950   0.213488 -0.114034  0.141213   \n",
       "NETWORTH07           0.156204 -0.079883  -0.089188  0.110855  0.146756   \n",
       "true_risk_tolerance  0.290022  0.113975  -0.116096 -0.038783  0.242642   \n",
       "\n",
       "                     INCOME07    RISK07  NETWORTH07  true_risk_tolerance  \n",
       "AGE07                0.157755  0.269954    0.156204             0.290022  \n",
       "EDCL07              -0.169439 -0.148950   -0.079883             0.113975  \n",
       "MARRIED07           -0.019242  0.213488   -0.089188            -0.116096  \n",
       "KIDS07               0.012300 -0.114034    0.110855            -0.038783  \n",
       "OCCAT107             0.103926  0.141213    0.146756             0.242642  \n",
       "INCOME07             1.000000 -0.140693    0.702653             0.139044  \n",
       "RISK07              -0.140693  1.000000   -0.041611             0.017230  \n",
       "NETWORTH07           0.702653 -0.041611    1.000000             0.201585  \n",
       "true_risk_tolerance  0.139044  0.017230    0.201585             1.000000  "
      ]
     },
     "execution_count": 43,
     "metadata": {},
     "output_type": "execute_result"
    }
   ],
   "source": []
  },
  {
   "cell_type": "code",
   "execution_count": null,
   "metadata": {},
   "outputs": [],
   "source": []
  },
  {
   "cell_type": "code",
   "execution_count": null,
   "metadata": {},
   "outputs": [],
   "source": []
  },
  {
   "cell_type": "code",
   "execution_count": null,
   "metadata": {},
   "outputs": [],
   "source": []
  },
  {
   "cell_type": "code",
   "execution_count": null,
   "metadata": {},
   "outputs": [],
   "source": []
  }
 ],
 "metadata": {
  "kernelspec": {
   "display_name": "Python 3",
   "language": "python",
   "name": "python3"
  },
  "language_info": {
   "codemirror_mode": {
    "name": "ipython",
    "version": 3
   },
   "file_extension": ".py",
   "mimetype": "text/x-python",
   "name": "python",
   "nbconvert_exporter": "python",
   "pygments_lexer": "ipython3",
   "version": "3.7.3"
  }
 },
 "nbformat": 4,
 "nbformat_minor": 2
}
