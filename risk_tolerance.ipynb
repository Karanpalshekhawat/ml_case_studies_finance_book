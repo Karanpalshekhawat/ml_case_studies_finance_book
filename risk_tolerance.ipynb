{
 "cells": [
  {
   "cell_type": "markdown",
   "metadata": {},
   "source": [
    "## Most of the method that are used to decide risk tolerance of any investor are based on qualitative judgement and manual effort (risk tolerance questionaire) but investors suffer from behavioral biases and are poor judges specially in stressed markets. Also involves quite manual stuff which cannot be automated. \n",
    "\n",
    "## We will try to develop an ML application to build a personality profile of the client of how they will deal different market scenarios\n",
    "\n",
    "## This notebook will try to address these 2 problems :- \n",
    "\n",
    "1. Train a supervised regression model to predict risk tolernace of an investor\n",
    "2. Build a robo advisor dashboard (free of any human dependency) "
   ]
  },
  {
   "cell_type": "code",
   "execution_count": 2,
   "metadata": {},
   "outputs": [],
   "source": [
    "#Independent variables will be demographic, financial and behavioural attriubutes\n",
    "import pandas as pd\n",
    "df = pd.read_excel('SCFP2009panel.xlsx')"
   ]
  },
  {
   "cell_type": "code",
   "execution_count": 14,
   "metadata": {},
   "outputs": [],
   "source": [
    "import numpy as np"
   ]
  },
  {
   "cell_type": "code",
   "execution_count": 7,
   "metadata": {},
   "outputs": [],
   "source": [
    "# Risky assets are MFs, stocks and bonds\n",
    "df['Risky_asset07'] = df['NMMF07'] + df['STOCKS07'] + df['BOND07']\n",
    "df['Risky_asset09'] = df['NMMF09'] + df['STOCKS09'] + df['BOND09']"
   ]
  },
  {
   "cell_type": "code",
   "execution_count": 8,
   "metadata": {},
   "outputs": [],
   "source": [
    "# Risk free assets are Savings, CDs and liquids\n",
    "df['Risky_free07'] = df['LIQ07'] + df['CDS07'] + df['SAVBND07'] + df['CASHLI07']\n",
    "df['Risky_free09'] = df['LIQ09'] + df['CDS09'] + df['SAVBND09'] + df['CASHLI09']"
   ]
  },
  {
   "cell_type": "code",
   "execution_count": 11,
   "metadata": {},
   "outputs": [],
   "source": [
    "# Ratio of risky assests to total assests is riks tolerance\n",
    "df['RT07'] = df['Risky_asset07']/(df['Risky_asset07']+df['Risky_free07'])"
   ]
  },
  {
   "cell_type": "code",
   "execution_count": 12,
   "metadata": {},
   "outputs": [],
   "source": [
    "# stock index for normalising risky assets in 209\n",
    "Average_SP500_2007=1478\n",
    "Average_SP500_2009=948"
   ]
  },
  {
   "cell_type": "code",
   "execution_count": 13,
   "metadata": {},
   "outputs": [],
   "source": [
    "df['RT09'] = (df['Risky_asset09']/(df['Risky_asset09']+df['Risky_free09']))*(Average_SP500_2009/Average_SP500_2007)"
   ]
  },
  {
   "cell_type": "code",
   "execution_count": 15,
   "metadata": {},
   "outputs": [],
   "source": [
    "# absolute percentage change of RT\n",
    "df['PerChange'] = np.abs(df['RT09']/df['RT07'] - 1) #if RT07 is zero, this will give error"
   ]
  },
  {
   "cell_type": "code",
   "execution_count": 16,
   "metadata": {},
   "outputs": [
    {
     "name": "stdout",
     "output_type": "stream",
     "text": [
      "(19285, 522)\n",
      "(9230, 522)\n"
     ]
    }
   ],
   "source": [
    "# drop any row that contains NA\n",
    "print(df.shape)\n",
    "df = df.dropna(axis=0)\n",
    "print(df.shape)"
   ]
  },
  {
   "cell_type": "code",
   "execution_count": 19,
   "metadata": {},
   "outputs": [
    {
     "name": "stdout",
     "output_type": "stream",
     "text": [
      "(9230, 522)\n",
      "(7956, 522)\n"
     ]
    }
   ],
   "source": [
    "print(df.shape)\n",
    "df = df[~df.isin([np.nan, np.inf, -np.inf]).any(1)]\n",
    "print(df.shape)"
   ]
  },
  {
   "cell_type": "code",
   "execution_count": 39,
   "metadata": {},
   "outputs": [],
   "source": [
    "# Final dataframe created\n",
    "import seaborn as sns\n",
    "import matplotlib.pyplot as plt"
   ]
  },
  {
   "cell_type": "code",
   "execution_count": 32,
   "metadata": {},
   "outputs": [],
   "source": [
    "import warnings\n",
    "warnings.filterwarnings('ignore')"
   ]
  },
  {
   "cell_type": "code",
   "execution_count": 23,
   "metadata": {},
   "outputs": [
    {
     "data": {
      "text/plain": [
       "<matplotlib.axes._subplots.AxesSubplot at 0x130b57ac8>"
      ]
     },
     "execution_count": 23,
     "metadata": {},
     "output_type": "execute_result"
    },
    {
     "data": {
      "image/png": "[encoded data removed]",
      "text/plain": [
       "<Figure size 432x288 with 1 Axes>"
      ]
     },
     "metadata": {
      "needs_background": "light"
     },
     "output_type": "display_data"
    }
   ],
   "source": [
    "sns.distplot(df['RT07'], color='blue', hist=True, bins = 40, kde=False, hist_kws={'edgecolor' : 'black'})"
   ]
  },
  {
   "cell_type": "code",
   "execution_count": 25,
   "metadata": {},
   "outputs": [
    {
     "data": {
      "text/plain": [
       "<matplotlib.axes._subplots.AxesSubplot at 0x12f244ac8>"
      ]
     },
     "execution_count": 25,
     "metadata": {},
     "output_type": "execute_result"
    },
    {
     "data": {
      "image/png": "[encoded data removed]",
      "text/plain": [
       "<Figure size 432x288 with 1 Axes>"
      ]
     },
     "metadata": {
      "needs_background": "light"
     },
     "output_type": "display_data"
    }
   ],
   "source": [
    "sns.distplot(df['RT09'], kde=False, hist=True, bins=40, color='blue', hist_kws={'edgecolor' : 'black'})"
   ]
  },
  {
   "cell_type": "markdown",
   "metadata": {},
   "source": [
    "We can observer the risk tolerance shifted from close to 1 in 2007 to close to 0 in 2009 (market effect of 2008, behaviour reversed after the crisis)\n",
    "\n",
    "Intelligent investors are those whose behaviour do not change by more than 10% (both sides)"
   ]
  },
  {
   "cell_type": "code",
   "execution_count": 33,
   "metadata": {},
   "outputs": [],
   "source": [
    "df_int = df[df['PerChange'] <= 0.1]\n",
    "df_int['true_risk_tolerance'] = (df_int['RT07'] + df_int['RT09']) / 2"
   ]
  },
  {
   "cell_type": "code",
   "execution_count": 34,
   "metadata": {},
   "outputs": [],
   "source": [
    "# true_risk_tolerance is the predicted variable for our analysis, drop other variables\n",
    "df_int = df_int.drop(labels = ['RT07', 'RT09', 'PerChange'], axis=1)"
   ]
  },
  {
   "cell_type": "markdown",
   "metadata": {},
   "source": [
    "## Variables Selection\n",
    "\n",
    "**Predictor Variable :** Age, Martial status, education, occupation, kids, spending habits ( expense > earning or vice versa), net worth, income vategory, Risk (1 being highest, 4 being lowest)\n",
    "\n",
    "**Predicted Variable :** True risk tolerance "
   ]
  },
  {
   "cell_type": "code",
   "execution_count": 37,
   "metadata": {},
   "outputs": [],
   "source": [
    "keep_list2 = ['AGE07','EDCL07','MARRIED07','KIDS07','OCCAT107','INCOME07','RISK07','NETWORTH07','true_risk_tolerance']\n",
    "drop_list = [i for i in df_int.columns if i not in keep_list2]"
   ]
  },
  {
   "cell_type": "code",
   "execution_count": 38,
   "metadata": {},
   "outputs": [
    {
     "name": "stdout",
     "output_type": "stream",
     "text": [
      "(355, 520)\n",
      "(355, 9)\n"
     ]
    }
   ],
   "source": [
    "print(df_int.shape)\n",
    "df_int = df_int.drop(labels=drop_list, axis =1)\n",
    "print(df_int.shape)"
   ]
  },
  {
   "cell_type": "markdown",
   "metadata": {},
   "source": [
    "#### Always remember that if you have finding correlation matrix of a dataset, it is better to show these numbers using a heat map"
   ]
  },
  {
   "cell_type": "code",
   "execution_count": 49,
   "metadata": {},
   "outputs": [
    {
     "data": {
      "text/plain": [
       "<matplotlib.axes._subplots.AxesSubplot at 0x130767ef0>"
      ]
     },
     "execution_count": 49,
     "metadata": {},
     "output_type": "execute_result"
    },
    {
     "data": {
      "image/png": "[encoded data removed]",
      "text/plain": [
       "<Figure size 1080x1080 with 2 Axes>"
      ]
     },
     "metadata": {
      "needs_background": "light"
     },
     "output_type": "display_data"
    }
   ],
   "source": [
    "correlation = df_int.corr()\n",
    "plt.figure(figsize=(15,15))\n",
    "plt.title('Correlation matrix')\n",
    "sns.heatmap(correlation, vmax=1, cmap='cubehelix', square=True, annot=True)"
   ]
  },
  {
   "cell_type": "markdown",
   "metadata": {},
   "source": [
    "We will use above dataset for our analysis. Although data is as of 2007 but true risk tolerance is average of 2007 and 2009"
   ]
  },
  {
   "cell_type": "code",
   "execution_count": 53,
   "metadata": {},
   "outputs": [],
   "source": [
    "Y = df_int['true_risk_tolerance']\n",
    "X = df_int.loc[:, df_int.columns != 'true_risk_tolerance']"
   ]
  },
  {
   "cell_type": "code",
   "execution_count": 54,
   "metadata": {},
   "outputs": [],
   "source": [
    "from sklearn.preprocessing import StandardScaler\n",
    "from sklearn.model_selection import train_test_split, cross_val_score, GridSearchCV, KFold"
   ]
  },
  {
   "cell_type": "code",
   "execution_count": 60,
   "metadata": {},
   "outputs": [],
   "source": [
    "from sklearn.linear_model import LinearRegression, Lasso, ElasticNet\n",
    "from sklearn.tree import DecisionTreeRegressor\n",
    "from sklearn.svm import SVR\n",
    "from sklearn.neighbors import KNeighborsRegressor\n",
    "from sklearn.ensemble import RandomForestRegressor, GradientBoostingRegressor, ExtraTreesRegressor, AdaBoostRegressor\n",
    "from sklearn.neural_network import MLPRegressor"
   ]
  },
  {
   "cell_type": "code",
   "execution_count": 62,
   "metadata": {},
   "outputs": [],
   "source": [
    "from sklearn.metrics import mean_squared_error"
   ]
  },
  {
   "cell_type": "code",
   "execution_count": 56,
   "metadata": {},
   "outputs": [],
   "source": [
    "validation_size = 0.2\n",
    "seed =10\n",
    "\n",
    "x_train, x_test, y_train, y_test = train_test_split(X, Y, test_size=validation_size, random_state=seed)"
   ]
  },
  {
   "cell_type": "markdown",
   "metadata": {},
   "source": [
    "## Remember when we have time series data, we should be very careful with respect to how do we split our data. We should not use train test split because it split randomly."
   ]
  },
  {
   "cell_type": "code",
   "execution_count": 80,
   "metadata": {},
   "outputs": [],
   "source": [
    "num_folds = 10\n",
    "scoring = \"r2\"  # using r square as evaluation metric\n",
    "models = {\n",
    "    'LR': LinearRegression(),\n",
    "    'LASSO': Lasso(),\n",
    "    'EN': ElasticNet(),\n",
    "    'DT': DecisionTreeRegressor(),  #Classifiation and Regression Tree\n",
    "    'SVR': SVR(),\n",
    "    'KNR': KNeighborsRegressor(),\n",
    "    'RFR': RandomForestRegressor(),\n",
    "    'GFR': GradientBoostingRegressor(),\n",
    "    'ETR': ExtraTreesRegressor(),\n",
    "    'ADR': AdaBoostRegressor(),\n",
    "}"
   ]
  },
  {
   "cell_type": "code",
   "execution_count": 81,
   "metadata": {},
   "outputs": [],
   "source": [
    "names = []\n",
    "cv_scores = []\n",
    "training_error = []\n",
    "test_error = []\n",
    "for name, model in models.items():\n",
    "    names.append(name)\n",
    "    kfold = KFold(n_splits=num_folds, random_state=seed)\n",
    "    cv_score = -1*cross_val_score(model, x_train, y_train, cv=kfold, scoring=scoring)\n",
    "    cv_scores.append(cv_score)\n",
    "    md = model.fit(x_train, y_train)\n",
    "    training_error.append(mean_squared_error(md.predict(x_train), y_train))\n",
    "    test_error.append(mean_squared_error(md.predict(x_test), y_test))"
   ]
  },
  {
   "cell_type": "code",
   "execution_count": 82,
   "metadata": {},
   "outputs": [
    {
     "data": {
      "image/png": "[encoded data removed]",
      "text/plain": [
       "<Figure size 432x288 with 1 Axes>"
      ]
     },
     "metadata": {
      "needs_background": "light"
     },
     "output_type": "display_data"
    }
   ],
   "source": [
    "# Plotting cross validation set errors\n",
    "fig = plt.figure()\n",
    "fig.suptitle(\"PLot of Kfold results\")\n",
    "ax = fig.add_subplot(111)\n",
    "plt.boxplot(cv_scores)\n",
    "ax.set_xticklabels(names)\n",
    "plt.show()"
   ]
  },
  {
   "cell_type": "markdown",
   "metadata": {},
   "source": [
    "Non linear models perform better than the linear models. We have chosen RFR for further analysis. \n",
    "\n",
    "## Model tuning and Grid Search"
   ]
  },
  {
   "cell_type": "code",
   "execution_count": 83,
   "metadata": {},
   "outputs": [],
   "source": [
    "# one of the most important parameter in RFR is number of trees\n",
    "param_grid = {'n_estimators':[50, 100, 150, 200, 250, 300, 350, 400]}\n",
    "model = RandomForestRegressor()\n",
    "kfold = KFold(n_splits=num_folds, random_state=seed)\n",
    "grid_results = GridSearchCV(estimator=model, scoring=scoring, param_grid=param_grid, cv=kfold)\n",
    "grid = grid_results.fit(x_train, y_train)"
   ]
  },
  {
   "cell_type": "code",
   "execution_count": 88,
   "metadata": {},
   "outputs": [
    {
     "name": "stdout",
     "output_type": "stream",
     "text": [
      "Best score is 0.7309444381550412 and best parameters is {'n_estimators': 100}\n"
     ]
    }
   ],
   "source": [
    "print(f'Best score is {grid.best_score_} and best parameters is {grid.best_params_}')\n",
    "means = grid.cv_results_['mean_test_score']\n",
    "std = grid.cv_results_['std_test_score']\n",
    "parameter_score = grid.cv_results_['params']"
   ]
  },
  {
   "cell_type": "code",
   "execution_count": 91,
   "metadata": {},
   "outputs": [],
   "source": [
    "from sklearn.metrics import r2_score"
   ]
  },
  {
   "cell_type": "code",
   "execution_count": 94,
   "metadata": {},
   "outputs": [
    {
     "name": "stdout",
     "output_type": "stream",
     "text": [
      "Training error is 0.9570408265665072\n",
      "Test error is 0.7916296469727135\n"
     ]
    }
   ],
   "source": [
    "final_model = RandomForestRegressor(n_estimators=100)\n",
    "f_m = final_model.fit(x_train, y_train)\n",
    "training_score = r2_score(f_m.predict(x_train), y_train)\n",
    "r_score = r2_score(f_m.predict(x_test), y_test)\n",
    "print(f\"Training error is {training_score}\")\n",
    "print(f\"Test error is {r_score}\")"
   ]
  },
  {
   "cell_type": "markdown",
   "metadata": {},
   "source": [
    "### Features importance"
   ]
  },
  {
   "cell_type": "code",
   "execution_count": 101,
   "metadata": {},
   "outputs": [
    {
     "data": {
      "text/plain": [
       "<matplotlib.axes._subplots.AxesSubplot at 0x127816278>"
      ]
     },
     "execution_count": 101,
     "metadata": {},
     "output_type": "execute_result"
    },
    {
     "data": {
      "image/png": "[encoded data removed]",
      "text/plain": [
       "<Figure size 432x288 with 1 Axes>"
      ]
     },
     "metadata": {
      "needs_background": "light"
     },
     "output_type": "display_data"
    }
   ],
   "source": [
    "feat_importances = pd.Series(f_m.feature_importances_, index=X.columns)\n",
    "feat_importances.nlargest(10).plot(kind='barh')"
   ]
  },
  {
   "cell_type": "markdown",
   "metadata": {},
   "source": [
    "### Save model for later use on new data"
   ]
  },
  {
   "cell_type": "code",
   "execution_count": 102,
   "metadata": {},
   "outputs": [],
   "source": [
    "from pickle import dump, load"
   ]
  },
  {
   "cell_type": "code",
   "execution_count": 106,
   "metadata": {},
   "outputs": [],
   "source": [
    "file_name = 'rfr_model_for_risk_toleance.sav'\n",
    "dump(f_m, open(file_name, 'wb'))"
   ]
  },
  {
   "cell_type": "code",
   "execution_count": 107,
   "metadata": {},
   "outputs": [],
   "source": [
    "# load model from disk\n",
    "loaded_model = load(open(file_name, 'rb'))"
   ]
  },
  {
   "cell_type": "code",
   "execution_count": 109,
   "metadata": {},
   "outputs": [
    {
     "name": "stdout",
     "output_type": "stream",
     "text": [
      "Training error is 0.9570408265665072\n",
      "Test error is 0.7916296469727135\n"
     ]
    }
   ],
   "source": [
    "training_score = r2_score(loaded_model.predict(x_train), y_train)\n",
    "r_score = r2_score(loaded_model.predict(x_test), y_test)\n",
    "print(f\"Training error is {training_score}\")\n",
    "print(f\"Test error is {r_score}\")"
   ]
  },
  {
   "cell_type": "code",
   "execution_count": null,
   "metadata": {},
   "outputs": [],
   "source": []
  }
 ],
 "metadata": {
  "kernelspec": {
   "display_name": "Python 3",
   "language": "python",
   "name": "python3"
  },
  "language_info": {
   "codemirror_mode": {
    "name": "ipython",
    "version": 3
   },
   "file_extension": ".py",
   "mimetype": "text/x-python",
   "name": "python",
   "nbconvert_exporter": "python",
   "pygments_lexer": "ipython3",
   "version": "3.7.3"
  }
 },
 "nbformat": 4,
 "nbformat_minor": 2
}
