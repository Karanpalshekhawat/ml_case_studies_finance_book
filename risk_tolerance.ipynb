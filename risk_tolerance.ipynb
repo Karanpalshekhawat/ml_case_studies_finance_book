{
 "cells": [
  {
   "cell_type": "markdown",
   "metadata": {},
   "source": [
    "## Most of the method that are used to decide risk tolerance of any investor are based on qualitative judgement and manual effort (risk tolerance questionaire) but investors suffer from behavioral biases and are poor judges specially in stressed markets. Also involves quite manual stuff which cannot be automated. \n",
    "\n",
    "## We will try to develop an ML application to build a personality profile of the client of how they will deal different market scenarios\n",
    "\n",
    "## This notebook will try to address these 2 problems :- \n",
    "\n",
    "1. Train a supervised regression model to predict risk tolernace of an investor\n",
    "2. Build a robo advisor dashboard (free of any human dependency) "
   ]
  },
  {
   "cell_type": "code",
   "execution_count": 2,
   "metadata": {},
   "outputs": [],
   "source": [
    "#Independent variables will be demographic, financial and behavioural attriubutes\n",
    "import pandas as pd\n",
    "df = pd.read_excel('SCFP2009panel.xlsx')"
   ]
  },
  {
   "cell_type": "code",
   "execution_count": 14,
   "metadata": {},
   "outputs": [],
   "source": [
    "import numpy as np"
   ]
  },
  {
   "cell_type": "code",
   "execution_count": 7,
   "metadata": {},
   "outputs": [],
   "source": [
    "# Risky assets are MFs, stocks and bonds\n",
    "df['Risky_asset07'] = df['NMMF07'] + df['STOCKS07'] + df['BOND07']\n",
    "df['Risky_asset09'] = df['NMMF09'] + df['STOCKS09'] + df['BOND09']"
   ]
  },
  {
   "cell_type": "code",
   "execution_count": 8,
   "metadata": {},
   "outputs": [],
   "source": [
    "# Risk free assets are Savings, CDs and liquids\n",
    "df['Risky_free07'] = df['LIQ07'] + df['CDS07'] + df['SAVBND07'] + df['CASHLI07']\n",
    "df['Risky_free09'] = df['LIQ09'] + df['CDS09'] + df['SAVBND09'] + df['CASHLI09']"
   ]
  },
  {
   "cell_type": "code",
   "execution_count": 11,
   "metadata": {},
   "outputs": [],
   "source": [
    "# Ratio of risky assests to total assests is riks tolerance\n",
    "df['RT07'] = df['Risky_asset07']/(df['Risky_asset07']+df['Risky_free07'])"
   ]
  },
  {
   "cell_type": "code",
   "execution_count": 12,
   "metadata": {},
   "outputs": [],
   "source": [
    "# stock index for normalising risky assets in 209\n",
    "Average_SP500_2007=1478\n",
    "Average_SP500_2009=948"
   ]
  },
  {
   "cell_type": "code",
   "execution_count": 13,
   "metadata": {},
   "outputs": [],
   "source": [
    "df['RT09'] = (df['Risky_asset09']/(df['Risky_asset09']+df['Risky_free09']))*(Average_SP500_2009/Average_SP500_2007)"
   ]
  },
  {
   "cell_type": "code",
   "execution_count": 15,
   "metadata": {},
   "outputs": [],
   "source": [
    "# absolute percentage change of RT\n",
    "df['PerChange'] = np.abs(df['RT09']/df['RT07'] - 1) #if RT07 is zero, this will give error"
   ]
  },
  {
   "cell_type": "code",
   "execution_count": 16,
   "metadata": {},
   "outputs": [
    {
     "name": "stdout",
     "output_type": "stream",
     "text": [
      "(19285, 522)\n",
      "(9230, 522)\n"
     ]
    }
   ],
   "source": [
    "# drop any row that contains NA\n",
    "print(df.shape)\n",
    "df = df.dropna(axis=0)\n",
    "print(df.shape)"
   ]
  },
  {
   "cell_type": "code",
   "execution_count": 19,
   "metadata": {},
   "outputs": [
    {
     "name": "stdout",
     "output_type": "stream",
     "text": [
      "(9230, 522)\n",
      "(7956, 522)\n"
     ]
    }
   ],
   "source": [
    "print(df.shape)\n",
    "df = df[~df.isin([np.nan, np.inf, -np.inf]).any(1)]\n",
    "print(df.shape)"
   ]
  },
  {
   "cell_type": "code",
   "execution_count": 30,
   "metadata": {},
   "outputs": [],
   "source": [
    "# Final dataframe created\n",
    "import seaborn as sns"
   ]
  },
  {
   "cell_type": "code",
   "execution_count": 32,
   "metadata": {},
   "outputs": [],
   "source": [
    "import warnings\n",
    "warnings.filterwarnings('ignore')"
   ]
  },
  {
   "cell_type": "code",
   "execution_count": 23,
   "metadata": {},
   "outputs": [
    {
     "data": {
      "text/plain": [
       "<matplotlib.axes._subplots.AxesSubplot at 0x130b57ac8>"
      ]
     },
     "execution_count": 23,
     "metadata": {},
     "output_type": "execute_result"
    },
    {
     "data": {
      "image/png": "[encoded data removed]",
      "text/plain": [
       "<Figure size 432x288 with 1 Axes>"
      ]
     },
     "metadata": {
      "needs_background": "light"
     },
     "output_type": "display_data"
    }
   ],
   "source": [
    "sns.distplot(df['RT07'], color='blue', hist=True, bins = 40, kde=False, hist_kws={'edgecolor' : 'black'})"
   ]
  },
  {
   "cell_type": "code",
   "execution_count": 25,
   "metadata": {},
   "outputs": [
    {
     "data": {
      "text/plain": [
       "<matplotlib.axes._subplots.AxesSubplot at 0x12f244ac8>"
      ]
     },
     "execution_count": 25,
     "metadata": {},
     "output_type": "execute_result"
    },
    {
     "data": {
      "image/png": "[encoded data removed]",
      "text/plain": [
       "<Figure size 432x288 with 1 Axes>"
      ]
     },
     "metadata": {
      "needs_background": "light"
     },
     "output_type": "display_data"
    }
   ],
   "source": [
    "sns.distplot(df['RT09'], kde=False, hist=True, bins=40, color='blue', hist_kws={'edgecolor' : 'black'})"
   ]
  },
  {
   "cell_type": "markdown",
   "metadata": {},
   "source": [
    "We can observer the risk tolerance shifted from close to 1 in 2007 to close to 0 in 2009 (market effect of 2008, behaviour reversed after the crisis)\n",
    "\n",
    "Intelligent investors are those whose behaviour do not change by more than 10% (both sides)"
   ]
  },
  {
   "cell_type": "code",
   "execution_count": 33,
   "metadata": {},
   "outputs": [],
   "source": [
    "df_int = df[df['PerChange'] <= 0.1]\n",
    "df_int['true_risk_tolerance'] = (df_int['RT07'] + df_int['RT09']) / 2"
   ]
  },
  {
   "cell_type": "code",
   "execution_count": 34,
   "metadata": {},
   "outputs": [],
   "source": [
    "# true_risk_tolerance is the predicted variable for our analysis, drop other variables\n",
    "df_int = df_int.drop(labels = ['RT07', 'RT09', 'PerChange'], axis=1)"
   ]
  },
  {
   "cell_type": "code",
   "execution_count": 35,
   "metadata": {},
   "outputs": [
    {
     "data": {
      "text/plain": [
       "(355, 520)"
      ]
     },
     "execution_count": 35,
     "metadata": {},
     "output_type": "execute_result"
    }
   ],
   "source": []
  },
  {
   "cell_type": "code",
   "execution_count": null,
   "metadata": {},
   "outputs": [],
   "source": []
  }
 ],
 "metadata": {
  "kernelspec": {
   "display_name": "Python 3",
   "language": "python",
   "name": "python3"
  },
  "language_info": {
   "codemirror_mode": {
    "name": "ipython",
    "version": 3
   },
   "file_extension": ".py",
   "mimetype": "text/x-python",
   "name": "python",
   "nbconvert_exporter": "python",
   "pygments_lexer": "ipython3",
   "version": "3.7.3"
  }
 },
 "nbformat": 4,
 "nbformat_minor": 2
}
